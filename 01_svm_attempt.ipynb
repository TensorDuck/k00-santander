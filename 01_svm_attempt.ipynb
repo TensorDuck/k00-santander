{
 "cells": [
  {
   "cell_type": "markdown",
   "metadata": {},
   "source": [
    "SVM Analysis\n",
    "============\n",
    "\n",
    "This notebook will analyze my attempt at making an SVM. Due to the large data size, the data is first clustered using the MiniBatchKmeans (see load.py and svm.py). This way, the SVM can be computed in a reasonable time.\n"
   ]
  },
  {
   "cell_type": "code",
   "execution_count": 1,
   "metadata": {},
   "outputs": [
    {
     "name": "stdout",
     "output_type": "stream",
     "text": [
      "Size of training set: 200000\n",
      "Number of input dimensions: 200\n",
      "Size of test set: 200000\n"
     ]
    }
   ],
   "source": [
    "%load_ext autoreload\n",
    "%autoreload 2\n",
    "%matplotlib inline\n",
    "\n",
    "import numpy as np\n",
    "import sklearn #SciKit-learn, good ML package\n",
    "from sklearn.externals import joblib #for dumping and loading learned classifiers\n",
    "from sklearn import tree as sktree\n",
    "import os\n",
    "import time\n",
    "import matplotlib.pyplot as plt\n",
    "\n",
    "from load import DataWorker #custom class for working with the data worker\n",
    "\n",
    "cwd = os.getcwd()\n",
    "ld = DataWorker() #load the data into the class\n",
    "print(\"Size of training set: %d\" % ld.n_training)\n",
    "print(\"Number of input dimensions: %d\" % ld.n_inputs)\n",
    "print(\"Size of test set: %d\" % ld.n_tests)\n"
   ]
  },
  {
   "cell_type": "markdown",
   "metadata": {},
   "source": [
    "Cross Validation Scores\n",
    "-----------------------------------\n",
    "\n",
    "First, let's compute the CV score for 4 different kernels, tuning the C parameters. This parameters governs the degree to which the SVM algorithm allows for misclassification. C=1 means less mis-classification.\n",
    "\n",
    "**Conclusions:** Well, this ended poorly. It appears the CV scores are awful, and return only zeroes. This is unfortunate as this means the SVM method is likely not going to be computationally feasible given my resources. Moving on for now."
   ]
  },
  {
   "cell_type": "code",
   "execution_count": 7,
   "metadata": {},
   "outputs": [],
   "source": [
    "work_dir = \"%s/simple_svm\" % cwd\n",
    "kernels = [\"linear\", \"poly\", \"rbf\", \"sigmoid\"] #tried these four kernels"
   ]
  },
  {
   "cell_type": "code",
   "execution_count": 15,
   "metadata": {},
   "outputs": [],
   "source": [
    "# load and compute averages and standard deviation for each kernel's CV score\n",
    "all_cvalues = []\n",
    "all_cv_avgs = []\n",
    "all_cv_sd = []\n",
    "\n",
    "for i_kern in kernels:\n",
    "    all_cvalues.append(np.loadtxt(\"%s/cv_%s_values.dat\" % (work_dir, i_kern)))\n",
    "    cv_scores = np.loadtxt(\"%s/cv_%s_scores.dat\" % (work_dir, i_kern))\n",
    "    all_cv_avgs.append(cv_scores.mean(axis=1)) #I can't believe it took me 4 years to learn this trick\n",
    "    all_cv_sd.append(cv_scores.std(axis=1))\n",
    "\n",
    "    "
   ]
  },
  {
   "cell_type": "code",
   "execution_count": 19,
   "metadata": {},
   "outputs": [
    {
     "data": {
      "text/plain": [
       "<matplotlib.legend.Legend at 0x81dbf96c>"
      ]
     },
     "execution_count": 19,
     "metadata": {},
     "output_type": "execute_result"
    },
    {
     "data": {
      "image/png": "[encoded data removed]",
      "text/plain": [
       "<Figure size 432x288 with 1 Axes>"
      ]
     },
     "metadata": {
      "needs_background": "light"
     },
     "output_type": "display_data"
    }
   ],
   "source": [
    "# plot the results\n",
    "plt.figure()\n",
    "for i in range(4):\n",
    "    plt.errorbar(all_cvalues[i], all_cv_avgs[i], all_cv_sd[i], label=kernels[i])\n",
    "\n",
    "plt.legend()"
   ]
  },
  {
   "cell_type": "code",
   "execution_count": null,
   "metadata": {},
   "outputs": [],
   "source": []
  }
 ],
 "metadata": {
  "kernelspec": {
   "display_name": "Python 3",
   "language": "python",
   "name": "python3"
  },
  "language_info": {
   "codemirror_mode": {
    "name": "ipython",
    "version": 3
   },
   "file_extension": ".py",
   "mimetype": "text/x-python",
   "name": "python",
   "nbconvert_exporter": "python",
   "pygments_lexer": "ipython3",
   "version": "3.7.1"
  }
 },
 "nbformat": 4,
 "nbformat_minor": 2
}
