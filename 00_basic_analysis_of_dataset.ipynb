{
 "cells": [
  {
   "cell_type": "markdown",
   "metadata": {},
   "source": [
    "Basic Analysis\n",
    "============\n",
    "\n",
    "This notebook aims to do a basic analysis of the data set. In particular, this will cover the correlation between different variables in the test set, a simple decision tree classifier and performance of different dimensional reduction techniques. To cover some basics:\n",
    "\n",
    "Size of training and test data\n",
    "------------------------------------------\n",
    "There are 200,000 training values, with 200 dimensions of information. The approximate distribution of target values, as will be shown, is 90% are 0's and 10% are 1's. The test set that has to be submitted also contains 200,000 test values. \n",
    "\n",
    "The overall size of the data is relatively small, so it can be loaded entirely into RAM locally without issue. Thus, the training and test data has been read from the .csv files and outputted into .npy (numpy compressed) formats to speed up loading in the future. The class `DataWorker`, will automatically load the data and perform basic tests and modifications of the data and the predicted results. \n"
   ]
  },
  {
   "cell_type": "markdown",
   "metadata": {},
   "source": [
    "Initial Analysis\n",
    "---------------------\n",
    "\n",
    "Data is loaded and correlations of the inputs are computed to look for any generic patterns.\n",
    "\n",
    "**Conclusions:**\n",
    "Most of the data has very little correlation with eachother suggesting most of the dimensions are linearly independent of eachother (largets correlation coefficient is 0.01). Does not meant there isn't a non-linear correlation between some dimensions, but initially, this data looks promisingly easy to work with."
   ]
  },
  {
   "cell_type": "code",
   "execution_count": 2,
   "metadata": {},
   "outputs": [
    {
     "name": "stdout",
     "output_type": "stream",
     "text": [
      "Size of training set: 200000\n",
      "Number of input dimensions: 200\n",
      "Size of test set: 200000\n"
     ]
    }
   ],
   "source": [
    "%load_ext autoreload\n",
    "%autoreload 2\n",
    "%matplotlib inline\n",
    "\n",
    "import numpy as np\n",
    "import sklearn #SciKit-learn, good ML package\n",
    "from sklearn.externals import joblib #for dumping and loading learned classifiers\n",
    "from sklearn import tree as sktree\n",
    "import os\n",
    "import time\n",
    "import matplotlib.pyplot as plt\n",
    "\n",
    "from load import DataWorker #custom class for working with the data worker\n",
    "\n",
    "cwd = os.getcwd()\n",
    "ld = DataWorker() #load the data into the class\n",
    "print(\"Size of training set: %d\" % ld.n_training)\n",
    "print(\"Number of input dimensions: %d\" % ld.n_inputs)\n",
    "print(\"Size of test set: %d\" % ld.n_tests)\n",
    "\n"
   ]
  },
  {
   "cell_type": "code",
   "execution_count": 3,
   "metadata": {},
   "outputs": [
    {
     "name": "stdout",
     "output_type": "stream",
     "text": [
      "largest correlation coefficient: 0.009844\n"
     ]
    }
   ],
   "source": [
    "R = np.corrcoef(ld.training, rowvar=False) # calculate correlation coefficient between all dimensions\n",
    "assert np.shape(R)[0] == ld.n_inputs\n",
    "\n",
    "# zero out the diagonal, since of course it's 1!\n",
    "for i in range(ld.n_inputs):\n",
    "    R[i,i] = 0\n",
    "\n",
    "print(\"largest correlation coefficient: %f\" % np.max(np.abs(R)))"
   ]
  },
  {
   "cell_type": "markdown",
   "metadata": {},
   "source": [
    "Analysis of Simple Decision Tree\n",
    "-------------------------------------------------\n",
    "\n",
    "A simple decision tree is computed on all the data, with no cross-validation checks to prevent over-fitting. This is meant to provide a benchmark of the performance of a dumb classifier, as well as provide basic insight into what we're working with.\n",
    "\n",
    "**Conclusions:**\n",
    "The simple Decision Tree does a very poor job. After submitting to Kaggle, the resultant accuracy was ~54%. Interestingly, the percentage of zeros in both data sets is about the same, meaning that the test set contains many more positive examples than the training set. The decision tree definitely overfits the data. Some attempts to prevent overfitting will be outlined in the following sections."
   ]
  },
  {
   "cell_type": "code",
   "execution_count": 4,
   "metadata": {},
   "outputs": [
    {
     "name": "stdout",
     "output_type": "stream",
     "text": [
      "Training set: 0.899510 are zeroes\n",
      "Test set: 0.892875 are zeroes\n"
     ]
    }
   ],
   "source": [
    "work_dir = \"%s/simple_decision_tree\" % cwd\n",
    "\n",
    "os.chdir(work_dir)\n",
    "simple_tree = joblib.load(\"simple_tree.pkl\") # load pre-computed results from a crude decision tree, see decision_tree.py\n",
    "results = simple_tree.predict(ld.tests) #Compute Predictions (kaggle gives ~54% accuracy)\n",
    "\n",
    "os.chdir(cwd)\n",
    "a_zeros, a_ones = ld.find_number_classified(ld.targets)\n",
    "b_zeros, b_ones = ld.find_number_classified(results)\n",
    "\n",
    "print(\"Training set: %f are zeroes\" % (a_zeros / (a_zeros + a_ones))) #percentage of zeros in the training set\n",
    "print(\"Test set: %f are zeroes\" %( b_zeros / (b_zeros + b_ones))) #percentage of zeros in the test set\n"
   ]
  },
  {
   "cell_type": "markdown",
   "metadata": {},
   "source": [
    "Cross Validation Check of Tree Depth\n",
    "-------------------------------------------------\n",
    "\n",
    "One option is to perform a cross-validation check for some hyper parameters. Sinver over-fitting seems to be an issue, let's try to reduce the tree depth. Let's handle this with a maximum tree depth. The default cross-validation score was used for the decision tree tree, which is the \"mean accuracy\" score (see: https://scikit-learn.org/stable/modules/model_evaluation.html#scoring-parameter sec 3.3.2.2). As a note, all scikit-learn scores are always set up so bigger numbers mean more accurate. \n",
    "\n",
    "**Conclusions:** An inflection point is reached around 1000. However, this is accuracy, and that's awful considering the accuracy would be ~90% when considering only 0's. This intuition ended up being correct, as the accuracy of the test model has become 0.504 for the MSS of 1000 and 0.499 for the MSS of 6000. Clearly, it's just a fancy way of outputting 0's. Maybe cross validate and only count accuracy of 1's predictions?"
   ]
  },
  {
   "cell_type": "code",
   "execution_count": 5,
   "metadata": {},
   "outputs": [
    {
     "name": "stdout",
     "output_type": "stream",
     "text": [
      "K-Fold Cross Validation performed for 10 parameter values with 10 sets\n",
      "[0.83519499 0.83797002 0.83833002 0.84122004 0.85225496 0.86471002\n",
      " 0.89313001 0.89646501 0.89911    0.89941   ]\n",
      "1000.0\n"
     ]
    },
    {
     "data": {
      "image/png": "[encoded data removed]",
      "text/plain": [
       "<Figure size 432x288 with 1 Axes>"
      ]
     },
     "metadata": {
      "needs_background": "light"
     },
     "output_type": "display_data"
    }
   ],
   "source": [
    "#Load cv scores\n",
    "min_split_criteria = np.loadtxt(\"simple_decision_tree/cv_min_split.dat\")\n",
    "cv_scores = np.loadtxt(\"simple_decision_tree/cv_scores.dat\")\n",
    "\n",
    "n_parameters, n_sets = np.shape(cv_scores)\n",
    "\n",
    "print(\"K-Fold Cross Validation performed for %d parameter values with %d sets\" % (n_parameters, n_sets))\n",
    "\n",
    "averages = np.sum(cv_scores, axis=1) / n_sets\n",
    "\n",
    "# make sure this works as expected\n",
    "#test = np.zeros(np.shape(cv_scores))\n",
    "#test = test - averages[:,np.newaxis]\n",
    "#assert test[0,0] == test[0,1]\n",
    "#assert test[1,0] == test[1,1]\n",
    "\n",
    "sd = np.sqrt(np.sum((cv_scores - averages[:,np.newaxis]) ** 2, axis=1) / n_sets)\n",
    "\n",
    "plt.errorbar(min_split_criteria, averages, sd)\n",
    "\n",
    "print(averages)\n",
    "print(min_split_criteria[6])\n",
    "\n",
    "\n"
   ]
  },
  {
   "cell_type": "code",
   "execution_count": 8,
   "metadata": {},
   "outputs": [
    {
     "name": "stdout",
     "output_type": "stream",
     "text": [
      "Minimal Sample Split of 1000: 0.991460 are zeroes\n",
      "Minimal Sample split of 6000: 0.991460 are zeroes\n"
     ]
    }
   ],
   "source": [
    "# load the resultant trees\n",
    "mss1 = np.loadtxt(\"simple_decision_tree/submission_mss1000.csv\", skiprows=1, usecols=(1,), delimiter=\",\")\n",
    "mss6 = np.loadtxt(\"simple_decision_tree/submission_mss1000.csv\", skiprows=1, usecols=(1,), delimiter=\",\")\n",
    "\n",
    "a_zeros, a_ones = ld.find_number_classified(mss1)\n",
    "b_zeros, b_ones = ld.find_number_classified(mss6)\n",
    "\n",
    "print(\"Minimal Sample Split of 1000: %f are zeroes\" % (a_zeros / (a_zeros + a_ones))) \n",
    "print(\"Minimal Sample split of 6000: %f are zeroes\" %( b_zeros / (b_zeros + b_ones))) "
   ]
  },
  {
   "cell_type": "markdown",
   "metadata": {},
   "source": [
    "Cross Validation Using Weighted Accuracy\n",
    "---------------------------------------------------------------\n",
    "\n",
    "The previous Cross-Validation checked scored using an unweighted accuracy. However, this resulted in a decision tree that was much worse as it classified the majority of inputs as 0. By weighting the 1's significantly more (9-times more than the 0's) in the cross-validation scoring, maybe it would help clear things up.\n",
    "\n",
    "\n",
    "**Conclusions:** This is very interesting. So there is an ideal decision tree with a minimum split criteria of 20. I think I didn't think about the impurity decrease very well, it appears the values I inputted are essentially all identical. Strange, a Gini score of 0.5 is the maximum Gini score for a binary classification process, so setting a minimum decrease of 0.5 seems like it should essentially stop the search process. It's possible that the Gini score decrease at each leaf node is itself super tiny and setting any value other than 0 causes it to immediately freeze. Will have to investigate further. In the end, using a minimum leaf split of 20 means an accuracy of 56%, so this is a slight improvement. Time to move on to something more complex."
   ]
  },
  {
   "cell_type": "code",
   "execution_count": 11,
   "metadata": {},
   "outputs": [
    {
     "name": "stdout",
     "output_type": "stream",
     "text": [
      "K-Fold Cross Validation performed for 10 parameter values with 10 sets\n",
      "[0.55671269 0.55920161 0.55990564 0.5603934  0.55840336 0.54539272\n",
      " 0.53145629 0.51359536]\n",
      "20.0\n"
     ]
    },
    {
     "data": {
      "image/png": "[encoded data removed]",
      "text/plain": [
       "<Figure size 432x288 with 1 Axes>"
      ]
     },
     "metadata": {
      "needs_background": "light"
     },
     "output_type": "display_data"
    }
   ],
   "source": [
    "#Load cv scores for a minimum sample split\n",
    "min_split_criteria = np.loadtxt(\"simple_decision_tree/cv_acc9_sample-count_values.dat\")\n",
    "min_split_scores = np.loadtxt(\"simple_decision_tree/cv_acc9_sample-count_scores.dat\")\n",
    "\n",
    "n_parameters, n_sets = np.shape(cv_scores)\n",
    "\n",
    "print(\"K-Fold Cross Validation performed for %d parameter values with %d sets\" % (n_parameters, n_sets))\n",
    "\n",
    "averages = np.sum(min_split_scores, axis=1) / n_sets\n",
    "\n",
    "# make sure this works as expected\n",
    "#test = np.zeros(np.shape(cv_scores))\n",
    "#test = test - averages[:,np.newaxis]\n",
    "#assert test[0,0] == test[0,1]\n",
    "#assert test[1,0] == test[1,1]\n",
    "\n",
    "sd = np.sqrt(np.sum((min_split_scores - averages[:,np.newaxis]) ** 2, axis=1) / n_sets)\n",
    "\n",
    "plt.errorbar(min_split_criteria, averages, sd)\n",
    "\n",
    "print(averages)\n",
    "print(min_split_criteria[3])"
   ]
  },
  {
   "cell_type": "code",
   "execution_count": 13,
   "metadata": {},
   "outputs": [
    {
     "name": "stdout",
     "output_type": "stream",
     "text": [
      "K-Fold Cross Validation performed for 10 parameter values with 10 sets\n",
      "[0.49864185 0.49864185 0.49864185 0.49864185 0.49864185 0.49864185\n",
      " 0.49864185]\n",
      "20.0\n"
     ]
    },
    {
     "data": {
      "image/png": "[encoded data removed]",
      "text/plain": [
       "<Figure size 432x288 with 1 Axes>"
      ]
     },
     "metadata": {
      "needs_background": "light"
     },
     "output_type": "display_data"
    }
   ],
   "source": [
    "#Load cv scores for a impurity score\n",
    "impurity_criteria = np.loadtxt(\"simple_decision_tree/cv_acc9_impurity_values.dat\")\n",
    "impurity_scores = np.loadtxt(\"simple_decision_tree/cv_acc9_impurity_scores.dat\")\n",
    "\n",
    "n_parameters, n_sets = np.shape(cv_scores)\n",
    "\n",
    "print(\"K-Fold Cross Validation performed for %d parameter values with %d sets\" % (n_parameters, n_sets))\n",
    "\n",
    "averages = np.sum(impurity_scores, axis=1) / n_sets\n",
    "\n",
    "# make sure this works as expected\n",
    "#test = np.zeros(np.shape(cv_scores))\n",
    "#test = test - averages[:,np.newaxis]\n",
    "#assert test[0,0] == test[0,1]\n",
    "#assert test[1,0] == test[1,1]\n",
    "\n",
    "sd = np.sqrt(np.sum((impurity_scores - averages[:,np.newaxis]) ** 2, axis=1) / n_sets)\n",
    "\n",
    "plt.errorbar(impurity_criteria, averages, sd)\n",
    "\n",
    "print(averages)\n",
    "print(min_split_criteria[3])"
   ]
  },
  {
   "cell_type": "code",
   "execution_count": 17,
   "metadata": {},
   "outputs": [
    {
     "name": "stdout",
     "output_type": "stream",
     "text": [
      "Best Tree found: 0.899905 are zeroes\n"
     ]
    }
   ],
   "source": [
    "# load the decision tree computed with a minimum sample split of 20\n",
    "best_tree = joblib.load(\"simple_decision_tree/simple_tree_min_sample_split20.pkl\")\n",
    "best_predictions = best_tree.predict(ld.tests)\n",
    "ld.output_results(best_predictions, savename=\"simple_decision_tree/submission_mss20.csv\")\n",
    "\n",
    "a_zeros, a_ones = ld.find_number_classified(best_predictions)\n",
    "print(\"Best Tree found: %f are zeroes\" % (a_zeros / (a_zeros + a_ones))) #percentage of zeros in the test set\n"
   ]
  },
  {
   "cell_type": "code",
   "execution_count": null,
   "metadata": {},
   "outputs": [],
   "source": []
  }
 ],
 "metadata": {
  "kernelspec": {
   "display_name": "Python 3",
   "language": "python",
   "name": "python3"
  },
  "language_info": {
   "codemirror_mode": {
    "name": "ipython",
    "version": 3
   },
   "file_extension": ".py",
   "mimetype": "text/x-python",
   "name": "python",
   "nbconvert_exporter": "python",
   "pygments_lexer": "ipython3",
   "version": "3.7.1"
  }
 },
 "nbformat": 4,
 "nbformat_minor": 2
}
